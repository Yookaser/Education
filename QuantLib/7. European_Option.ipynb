{
 "cells": [
  {
   "cell_type": "code",
   "execution_count": 1,
   "metadata": {},
   "outputs": [],
   "source": [
    "import QuantLib as ql"
   ]
  },
  {
   "cell_type": "code",
   "execution_count": 2,
   "metadata": {},
   "outputs": [],
   "source": [
    "valuationDate = ql.Date(24, 11, 2020) # 평가일자\n",
    "ql.Settings.instance().evaluationDate = valuationDate # 퀀트립에 평가하는 날짜를 알려주기 위함\n",
    "\n",
    "calendar = ql.SouthKorea() # 한국 달력\n",
    "dayCount = ql.ActualActual() # 이자 계산 방식\n",
    "\n",
    "# Simple Quote Objects(시장 변수)\n",
    "underlying_qt = ql.SimpleQuote(270.48)      # 현재 주가\n",
    "dividend_qt = ql.SimpleQuote(0.0)           # 배당(0은 배당 없음을 의미)\n",
    "riskfreerate_qt = ql.SimpleQuote(0.01)      # 금리(0.01 -> 1%)\n",
    "volatility_qt = ql.SimpleQuote(0.13)        # 변동성(0.13 -> 13%)\n",
    "\n",
    "# Quote Handle Objects(Quote 변수들을 특정 지점의 값이 아닌 쿼트 핸들 형태로 만들어야 함)\n",
    "u_qhd = ql.QuoteHandle(underlying_qt)\n",
    "d_qhd = ql.QuoteHandle(dividend_qt)\n",
    "r_qhd = ql.QuoteHandle(riskfreerate_qt)\n",
    "v_qhd = ql.QuoteHandle(volatility_qt)\n",
    "\n",
    "# Term-Structure Objects(Quote 변수들을 쿼트 핸들의 형태에서 기간 형태로 만들어야 함)\n",
    "r_ts = ql.FlatForward(valuationDate, r_qhd, dayCount) # FlatForward ==> Quote의 값이 전 만기에 동일한 값을 가진다는 것을 정의하는 것\n",
    "d_ts = ql.FlatForward(valuationDate, d_qhd, dayCount) # (평가일자, 값, 이자 계산 방식)\n",
    "v_ts = ql.BlackConstantVol(valuationDate, calendar, v_qhd, dayCount) # BlackConstantVol ==> FlatForward와 동일한 기능\n",
    "                          # (평가일자, 달력, 값, 이자 계산 방식)\n",
    "# Term-Structure Handle Objects\n",
    "r_thd = ql.YieldTermStructureHandle(r_ts)\n",
    "d_thd = ql.YieldTermStructureHandle(d_ts)\n",
    "v_thd = ql.BlackVolTermStructureHandle(v_ts)\n",
    "\n",
    "# Process & Engine\n",
    "process = ql.BlackScholesMertonProcess(u_qhd, d_thd, r_thd, v_thd) # (주가, 배당, 금리, 변동성)\n",
    "# BlackScholesMertonProcess ==> 기초자산의 수익률이 정규분포를 따르고, 랜덤하게 움직인다는 정의를 가진 프로세스\n",
    "engine = ql.AnalyticEuropeanEngine(process) # AnalyticEuropeanEngine ==> 엔진을 구현\n",
    "\n",
    "# Option Objects\n",
    "option_type = ql.Option.Call\n",
    "strikePrice = 272 # 행사가(만기 페이오프를 계산했을 때 행사가(272)가 넘으면 이득을 보게 되는 것)\n",
    "expiryDate = ql.Date(24, 11, 2021) # 만기일\n",
    "exercise = ql.EuropeanExercise(expiryDate) # EuropeanExercise 행사 방식을 선택\n",
    "payoff = ql.PlainVanillaPayoff(option_type, strikePrice) # 페이오프 설정\n",
    "option = ql.VanillaOption(payoff, exercise) # 바닐라 옵션 구현\n",
    "\n",
    "# Pricing\n",
    "option.setPricingEngine(engine)"
   ]
  },
  {
   "cell_type": "code",
   "execution_count": 3,
   "metadata": {},
   "outputs": [
    {
     "name": "stdout",
     "output_type": "stream",
     "text": [
      "Option Premium =  14.59\n",
      "Option Delta =  0.5393\n",
      "Option Gamma =  0.0113\n",
      "Option Theta =  -0.0227\n",
      "Option Vega =  1.0737\n",
      "Option Rho =  1.3126\n",
      "\n",
      "\n",
      "Option Premium =  17.14\n",
      "Option Delta =  0.5895\n",
      "Option Gamma =  0.0109\n",
      "Option Theta =  -0.023\n",
      "Option Vega =  1.0692\n",
      "Option Rho =  1.4494\n",
      "\n",
      "\n",
      "Implied_volatility =  0.07\n",
      "Option Premium =  8.21\n",
      "Option Delta =  0.5388\n",
      "Option Gamma =  0.0208\n",
      "Option Theta =  -0.0142\n",
      "Option Vega =  1.0738\n",
      "Option Rho =  1.375\n",
      "\n",
      "\n"
     ]
    }
   ],
   "source": [
    "# Price & Greeks Results\n",
    "print('Option Premium = ', round(option.NPV(), 2))          # option premium\n",
    "print('Option Delta = ', round(option.delta(), 4))          # Delta ==> 주가가 1단위 움직였을 때 옵션이 얼마나 움직이는지\n",
    "print('Option Gamma = ', round(option.gamma(), 4))          # gamma\n",
    "print('Option Theta = ', round(option.thetaPerDay(), 4))    # theta ==> 날짜가 하루 움직였을 때 옵션이 얼마나 움직이는지\n",
    "print('Option Vega = ', round(option.vega() / 100, 4))      # vega\n",
    "print('Option Rho = ', round(option.rho() / 100, 4))        # rho ==> 금리 가격 변화\n",
    "print('\\n')\n",
    "\n",
    "# Automatic Re-Pricing\n",
    "underlying_qt.setValue(275) # underlying_qt를 기존 272에서 275로 변환하라는 의미\n",
    "print('Option Premium = ', round(option.NPV(), 2))          # option premium\n",
    "print('Option Delta = ', round(option.delta(), 4))          # delta\n",
    "print('Option Gamma = ', round(option.gamma(), 4))          # gamma\n",
    "print('Option Theta = ', round(option.thetaPerDay(), 4))    # theta\n",
    "print('Option Vega = ', round(option.vega() / 100, 4))      # vega\n",
    "print('Option Rho = ', round(option.rho() / 100, 4))        # rho\n",
    "print('\\n')\n",
    "\n",
    "# Implied Volatility(내재 변동성)\n",
    "underlying_qt.setValue(270.48)\n",
    "mkt_price = 8.21\n",
    "implied_volatility = option.impliedVolatility(mkt_price, process) # 내재 변동성 매서드 이용(임의의 변동성(0.13)이 아닌 계산된 변동성)\n",
    "print(\"Implied_volatility = \", round(implied_volatility, 2)) # 임의로 지정한 0.13이 아닌 0.07로 나옴\n",
    "\n",
    "volatility_qt.setValue(implied_volatility)\n",
    "print('Option Premium = ', round(option.NPV(), 2))          # option premium\n",
    "print('Option Delta = ', round(option.delta(), 4))          # delta\n",
    "print('Option Gamma = ', round(option.gamma(), 4))          # gamma\n",
    "print('Option Theta = ', round(option.thetaPerDay(), 4))    # theta\n",
    "print('Option Vega = ', round(option.vega() / 100, 4))      # vega\n",
    "print('Option Rho = ', round(option.rho() / 100, 4))        # rho\n",
    "print('\\n')"
   ]
  }
 ],
 "metadata": {
  "kernelspec": {
   "display_name": "Python 3",
   "language": "python",
   "name": "python3"
  },
  "language_info": {
   "codemirror_mode": {
    "name": "ipython",
    "version": 3
   },
   "file_extension": ".py",
   "mimetype": "text/x-python",
   "name": "python",
   "nbconvert_exporter": "python",
   "pygments_lexer": "ipython3",
   "version": "3.7.7"
  }
 },
 "nbformat": 4,
 "nbformat_minor": 4
}
