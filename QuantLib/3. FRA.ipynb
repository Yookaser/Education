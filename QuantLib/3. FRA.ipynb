{
 "cells": [
  {
   "cell_type": "code",
   "execution_count": 1,
   "metadata": {
    "scrolled": true
   },
   "outputs": [],
   "source": [
    "import datetime\n",
    "import QuantLib as ql\n",
    "from module.Swap_Curve import GET_QUOTE, SWAP_CURVE # 이전에 만든 함수들 가져오기"
   ]
  },
  {
   "cell_type": "code",
   "execution_count": 2,
   "metadata": {},
   "outputs": [],
   "source": [
    "class FRA():\n",
    "    # __init__는 class 초기화(내부화) 기능(class 내부에서 변수를 처리할 수 있도록 만듬?)\n",
    "    def __init__(self, todays_date, effective_date, maturity_date, position, fra_rate, notional): # 입력 변수 6개\n",
    "        \n",
    "        # Initial Setup 1 : Date & Curve\n",
    "        self.date = todays_date # class 내부에서 self.date는 todays_date로 지정함\n",
    "        self.curve = self.CURVE(self.date) # class 내부에서 self.curve는 todays_date에 커브의 값을 지정함\n",
    "        \n",
    "        # Initial Setup 2 : Instruments Info\n",
    "        self.effective_date = ql.Date(effective_date.day, effective_date.month, effective_date.year) # 퀀트립 형태의 날짜로 바꿈\n",
    "        self.maturity_date = ql.Date(maturity_date.day, maturity_date.month, maturity_date.year) # 퀀트립 형태의 날짜로 바꿈\n",
    "        if position == 'Long':\n",
    "            self.position = ql.Position.Long # 선도 금리 계약의 포지션을 Long으로 지정\n",
    "        else:\n",
    "            self.position = ql.Position.Short # 선도 금리 계약의 포지션을 Short로 지정\n",
    "        self.fra_rate = fra_rate\n",
    "        self.notional = notional\n",
    "\n",
    "        # Pricing Results(나중에 구현할 함수를 미리 지정해놓음)\n",
    "        self.npv = self.PRICING(self.curve) # 이론가 계산할 수 있는 함수\n",
    "        self.dv01 = self.DV01() # 금리 커브 변화에 따른 포지션의 변화를 계산할 수 있는 델타 함수\n",
    "        self.theta = self.THETA() # 시장 환경은 변화하지 않았지만, 시간이 변할 때 포지션 변화를 계산할 수 있는 세타 함수\n",
    "        \n",
    "    def CURVE(self, date): # class 내부의 함수들은 모두 self를 써줌\n",
    "        return SWAP_CURVE(date, GET_QUOTE(date))\n",
    "    \n",
    "    def PRICING(self, curve):\n",
    "        curve_handle = ql.YieldTermStructureHandle(curve) # 커브 핸들 변수 생성\n",
    "        libor = ql.USDLibor(ql.Period(3, ql.Months), curve_handle) # 준거 금리 변수 생성(여기서는 3개월로 지정함)\n",
    "        # Pricing FRA\n",
    "        fra = ql.ForwardRateAgreement(self.effective_date, # 정산일\n",
    "                                      self.maturity_date, # 만기일자\n",
    "                                      self.position, # 포지션(매매방향)\n",
    "                                      self.fra_rate, # 계약 금리\n",
    "                                      self.notional, # 명목 금액\n",
    "                                      libor, # 준거 금리(3개월)\n",
    "                                      curve_handle) # 평가 금리 커브(그냥 curve가 아닌 curve_handle 넣어야함)\n",
    "        npv = fra.NPV() # NPV() ==> fra의 이론적인 가치를 구하고 싶을 때\n",
    "        return npv\n",
    "    \n",
    "    def DV01(self): # 금리 커브가 1bp 움직였을 때, 선도 금리 계약(FRA)의 가격이 얼마나 변하는지\n",
    "        curve_handle = ql.YieldTermStructureHandle(self.curve) # 커브 핸들 변수 생성(PRICING과 같음)\n",
    "        \n",
    "        # 1bp\n",
    "        basis_point = 0.0001 # 0.01%를 의미\n",
    "        \n",
    "        # FRA price when 1bp up\n",
    "        up_curve = ql.ZeroSpreadedTermStructure(curve_handle, ql.QuoteHandle(ql.SimpleQuote(basis_point)))\n",
    "        # ZeroSpreadedTermStructure ==> 기존의 기간 구조를 받은 후 몇 bp 위 or 아래로 움직여줄 것인지를 구현하는 함수\n",
    "        up_fra = self.PRICING(up_curve) # +1bp 움직였을 때, Pricing\n",
    "\n",
    "        # FRA price when 1bp down\n",
    "        down_curve = ql.ZeroSpreadedTermStructure(curve_handle, ql.QuoteHandle(ql.SimpleQuote(-basis_point)))\n",
    "        down_fra = self.PRICING(down_curve) # -1bp 움직였을 때, Pricing\n",
    "\n",
    "        # Delta 계산\n",
    "        dv01 = (up_fra - down_fra) / 2\n",
    "        return dv01\n",
    "    \n",
    "    def THETA(self): # 오직 시간이 한 단위 변했을 때(시장 환경엔 변화 X), 선도 금리 계약의 가격이 얼마나 변하는지\n",
    "        price_t0 = self.PRICING(self.CURVE(self.date)) # 기존 pricing\n",
    "        print(price_t0)\n",
    "        \n",
    "        price_t1 = self.PRICING(self.CURVE(self.date + datetime.timedelta(days=1))) # 하루 지난 후 pricing\n",
    "        print(price_t1)\n",
    "        return price_t1 - price_t0 # THETA 계산"
   ]
  },
  {
   "cell_type": "code",
   "execution_count": 3,
   "metadata": {},
   "outputs": [
    {
     "name": "stdout",
     "output_type": "stream",
     "text": [
      "84.6341973176786\n",
      "84.64588629561904\n",
      "Price = 84.6342\n",
      "DV01 = 158.3565\n",
      "Theta = 0.0117\n"
     ]
    }
   ],
   "source": [
    "if __name__ == \"__main__\":\n",
    "\n",
    "    # 오늘 날짜를 날짜 형식으로 변환\n",
    "    todays_date = datetime.date(2020, 10, 9)\n",
    "            \n",
    "    # FRA의 상품 정보\n",
    "    effective_date = datetime.date(2020, 10, 19) # 정산일\n",
    "    maturity_date = datetime.date(2020, 12, 15) # 만기일\n",
    "    position = 'Long' # 포지션 매수(Long)\n",
    "    fra_rate = 0.0022 # 선도 금리 수준\n",
    "    notional = 10000000 # USD 달러 기준 1,000만 불\n",
    "    \n",
    "    # Build FRA object\n",
    "    fra = FRA(todays_date, # 오늘 날짜\n",
    "              effective_date, # 정산일\n",
    "              maturity_date, # 만기일\n",
    "              position, # 포지션\n",
    "              fra_rate, # 선도 금리 수준\n",
    "              notional)\n",
    "    \n",
    "    print(\"Price = {}\".format(round(fra.npv, 4)))\n",
    "    print(\"DV01 = {}\".format(round(fra.dv01, 4)))\n",
    "    print(\"Theta = {}\".format(round(fra.theta, 4)))"
   ]
  }
 ],
 "metadata": {
  "kernelspec": {
   "display_name": "Python 3",
   "language": "python",
   "name": "python3"
  },
  "language_info": {
   "codemirror_mode": {
    "name": "ipython",
    "version": 3
   },
   "file_extension": ".py",
   "mimetype": "text/x-python",
   "name": "python",
   "nbconvert_exporter": "python",
   "pygments_lexer": "ipython3",
   "version": "3.7.7"
  }
 },
 "nbformat": 4,
 "nbformat_minor": 4
}
