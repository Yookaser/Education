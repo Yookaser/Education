{
 "cells": [
  {
   "cell_type": "markdown",
   "metadata": {},
   "source": [
    "# 통계학 개념"
   ]
  },
  {
   "cell_type": "markdown",
   "metadata": {},
   "source": [
    "### 평균값, 중앙값, 최빈값"
   ]
  },
  {
   "cell_type": "code",
   "execution_count": 1,
   "metadata": {},
   "outputs": [
    {
     "name": "stdout",
     "output_type": "stream",
     "text": [
      "평균값:  49.17\n",
      "중앙값:  49.0\n",
      "최빈값: 3 (125)\n"
     ]
    }
   ],
   "source": [
    "# 최빈<중앙<평균일 경우 우도>0(오른쪽으로 꼬리가 긴 형태)\n",
    "# mode ==> mderesult 타입을 반환해주는데 mode와 count로 구성되어 있음\n",
    "import numpy as np\n",
    "from scipy import stats\n",
    "\n",
    "np.random.seed(0)\n",
    "data=np.random.randint(0,100,10000)\n",
    "\n",
    "mean=np.mean(data); print('평균값: ', mean.round(2))\n",
    "median=np.median(data); print('중앙값: ', median.round(2))\n",
    "mode=stats.mode(data); print('최빈값: {} ({})'.format(mode[0][0], mode[1][0]))"
   ]
  },
  {
   "cell_type": "markdown",
   "metadata": {},
   "source": [
    "### 평균, 분산, 표준편차, 사분위수"
   ]
  },
  {
   "cell_type": "code",
   "execution_count": 2,
   "metadata": {},
   "outputs": [
    {
     "name": "stdout",
     "output_type": "stream",
     "text": [
      "분산:  662\n",
      "표준편차:  25.73\n",
      "범위:  79\n",
      "사분위수: \n",
      "0% => 9.0\n",
      "25% => 42.75\n",
      "50% => 64.5\n",
      "75% => 84.0\n",
      "100% => 88.0\n",
      "IQR:  41.25\n"
     ]
    }
   ],
   "source": [
    "# np.percentile ==> np.percentile(데이터,n) 데이터에서 n% 값 추출(크기 순)\n",
    "import numpy as np\n",
    "from statistics import variance,stdev\n",
    "\n",
    "np.random.seed(0)\n",
    "points=np.random.randint(0,100,20)\n",
    "\n",
    "var=variance(points); print('분산: ', var)\n",
    "std = stdev(points); print('표준편차: ', np.round(std,2))\n",
    "range=np.max(points)-np.min(points); print('범위: ', range)\n",
    "\n",
    "print('사분위수: ')\n",
    "for val in [0,25,50,75,100]:\n",
    "    quantile=np.percentile(points,val)\n",
    "    print('{}% => {}'.format(val,quantile))\n",
    "\n",
    "q1,q3=np.percentile(points,[25,75])\n",
    "print('IQR: ', q3-q1)"
   ]
  },
  {
   "cell_type": "markdown",
   "metadata": {},
   "source": [
    "### 단일표본 t검정\n",
    "- 문제: 한 빵집에서 생산되는 식빵의 무게가 최소 200g이라고 주장할 경우, 표본 20개를 추출하여 구한 평균의 무게가 196g이고, 표준편차는 5.3g이었다면, 유의수준 5%(0.05)로 위의 주장을 기각할 수 있을까?"
   ]
  },
  {
   "cell_type": "code",
   "execution_count": 3,
   "metadata": {},
   "outputs": [
    {
     "name": "stdout",
     "output_type": "stream",
     "text": [
      "검정통계량:  -3.38\n",
      "t-table로부터의 임계값:  -1.729\n",
      "t-table의 아래쪽 꼬리 p 값:  0.0016\n"
     ]
    }
   ],
   "source": [
    "# ppf ==> percent point function으로 alpha,n에 해당하는 임계값 반환(검정통계량과 비교) \n",
    "# sf ==> survival function으로 검정통계량,n에 해당하는 p값 반환(alpha와 비교)\n",
    "import numpy as np\n",
    "from scipy import stats\n",
    "\n",
    "x_bar,mu,sigma,n=196,200,5.3,20\n",
    "\n",
    "t_sample=(x_bar-mu)/(sigma/np.sqrt(float(n)))\n",
    "print('검정통계량: ', np.round(t_sample,2))\n",
    "\n",
    "alpha=0.05\n",
    "t_alpha=stats.t.ppf(alpha,n-1)\n",
    "print('t-table로부터의 임계값: ',np.round(t_alpha,3))\n",
    "\n",
    "p_val=stats.t.sf(np.abs(t_sample),n-1)\n",
    "print('t-table의 아래쪽 꼬리 p 값: ', np.round(p_val,4))"
   ]
  },
  {
   "cell_type": "markdown",
   "metadata": {},
   "source": [
    "### 표준정규분포\n",
    "- 문제: 시험 점수가 정규분포를 따른다고 가정할 경우, 평균 점수가 56점이고 표준편차가 13.6인 경우, 75점 이상을 받는 학생들은 몇 %일까?"
   ]
  },
  {
   "cell_type": "code",
   "execution_count": 4,
   "metadata": {},
   "outputs": [
    {
     "name": "stdout",
     "output_type": "stream",
     "text": [
      "z-score:  1.4\n",
      "학생이 75점 이상 받을 확률: 8.12%\n"
     ]
    }
   ],
   "source": [
    "# cdf ==> culmative dencity function으로 z값까지의 면적(-무한대~z)값을 계산\n",
    "import numpy as np\n",
    "from scipy import stats\n",
    "\n",
    "x, mu, sigma = 75, 56, 13.6\n",
    "\n",
    "z = (x - mu) / sigma\n",
    "print('z-score: ', np.round(z, 2))\n",
    "\n",
    "p_val = 1 - stats.norm.cdf(z)\n",
    "print('학생이 {}점 이상 받을 확률: {}%'.format(x,np.round(p_val*100,2)))"
   ]
  },
  {
   "cell_type": "markdown",
   "metadata": {},
   "source": [
    "### 카이제곱 독립성 검정\n",
    "- 문제: 흡연은 운동에 영향을 미칠까?"
   ]
  },
  {
   "cell_type": "code",
   "execution_count": 5,
   "metadata": {},
   "outputs": [
    {
     "data": {
      "text/html": [
       "<div>\n",
       "<style scoped>\n",
       "    .dataframe tbody tr th:only-of-type {\n",
       "        vertical-align: middle;\n",
       "    }\n",
       "\n",
       "    .dataframe tbody tr th {\n",
       "        vertical-align: top;\n",
       "    }\n",
       "\n",
       "    .dataframe thead th {\n",
       "        text-align: right;\n",
       "    }\n",
       "</style>\n",
       "<table border=\"1\" class=\"dataframe\">\n",
       "  <thead>\n",
       "    <tr style=\"text-align: right;\">\n",
       "      <th></th>\n",
       "      <th>smoke</th>\n",
       "      <th>exercise</th>\n",
       "    </tr>\n",
       "  </thead>\n",
       "  <tbody>\n",
       "    <tr>\n",
       "      <th>0</th>\n",
       "      <td>안함</td>\n",
       "      <td>안함</td>\n",
       "    </tr>\n",
       "    <tr>\n",
       "      <th>1</th>\n",
       "      <td>심함</td>\n",
       "      <td>안함</td>\n",
       "    </tr>\n",
       "    <tr>\n",
       "      <th>2</th>\n",
       "      <td>가끔</td>\n",
       "      <td>매일</td>\n",
       "    </tr>\n",
       "    <tr>\n",
       "      <th>3</th>\n",
       "      <td>안함</td>\n",
       "      <td>가끔</td>\n",
       "    </tr>\n",
       "    <tr>\n",
       "      <th>4</th>\n",
       "      <td>심함</td>\n",
       "      <td>가끔</td>\n",
       "    </tr>\n",
       "  </tbody>\n",
       "</table>\n",
       "</div>"
      ],
      "text/plain": [
       "  smoke exercise\n",
       "0    안함       안함\n",
       "1    심함       안함\n",
       "2    가끔       매일\n",
       "3    안함       가끔\n",
       "4    심함       가끔"
      ]
     },
     "execution_count": 5,
     "metadata": {},
     "output_type": "execute_result"
    }
   ],
   "source": [
    "# choice ==> data에 n개 만큼 랜덤하게 구성\n",
    "import numpy as np\n",
    "import pandas as pd\n",
    "from scipy import stats\n",
    "\n",
    "np.random.seed(0)\n",
    "\n",
    "smoke = ['안함','가끔','매일','심함']\n",
    "exercise = ['안함','가끔','매일']\n",
    "\n",
    "data = {'smoke': np.random.choice(smoke,size=500), 'exercise': np.random.choice(exercise,size=500)}\n",
    "\n",
    "df = pd.DataFrame(data, columns=['smoke','exercise'])\n",
    "df.head()"
   ]
  },
  {
   "cell_type": "code",
   "execution_count": 6,
   "metadata": {},
   "outputs": [
    {
     "data": {
      "text/html": [
       "<div>\n",
       "<style scoped>\n",
       "    .dataframe tbody tr th:only-of-type {\n",
       "        vertical-align: middle;\n",
       "    }\n",
       "\n",
       "    .dataframe tbody tr th {\n",
       "        vertical-align: top;\n",
       "    }\n",
       "\n",
       "    .dataframe thead th {\n",
       "        text-align: right;\n",
       "    }\n",
       "</style>\n",
       "<table border=\"1\" class=\"dataframe\">\n",
       "  <thead>\n",
       "    <tr style=\"text-align: right;\">\n",
       "      <th>exercise</th>\n",
       "      <th>가끔</th>\n",
       "      <th>매일</th>\n",
       "      <th>안함</th>\n",
       "    </tr>\n",
       "    <tr>\n",
       "      <th>smoke</th>\n",
       "      <th></th>\n",
       "      <th></th>\n",
       "      <th></th>\n",
       "    </tr>\n",
       "  </thead>\n",
       "  <tbody>\n",
       "    <tr>\n",
       "      <th>가끔</th>\n",
       "      <td>38</td>\n",
       "      <td>39</td>\n",
       "      <td>45</td>\n",
       "    </tr>\n",
       "    <tr>\n",
       "      <th>매일</th>\n",
       "      <td>34</td>\n",
       "      <td>44</td>\n",
       "      <td>33</td>\n",
       "    </tr>\n",
       "    <tr>\n",
       "      <th>심함</th>\n",
       "      <td>45</td>\n",
       "      <td>44</td>\n",
       "      <td>51</td>\n",
       "    </tr>\n",
       "    <tr>\n",
       "      <th>안함</th>\n",
       "      <td>47</td>\n",
       "      <td>41</td>\n",
       "      <td>39</td>\n",
       "    </tr>\n",
       "  </tbody>\n",
       "</table>\n",
       "</div>"
      ],
      "text/plain": [
       "exercise  가끔  매일  안함\n",
       "smoke               \n",
       "가끔        38  39  45\n",
       "매일        34  44  33\n",
       "심함        45  44  51\n",
       "안함        47  41  39"
      ]
     },
     "execution_count": 6,
     "metadata": {},
     "output_type": "execute_result"
    }
   ],
   "source": [
    "# crosstab ==> 분할표 만들기(빈도수)\n",
    "xtab=pd.crosstab(df.smoke,df.exercise)\n",
    "xtab"
   ]
  },
  {
   "cell_type": "code",
   "execution_count": 7,
   "metadata": {},
   "outputs": [
    {
     "name": "stdout",
     "output_type": "stream",
     "text": [
      "P-값:  0.668\n"
     ]
    }
   ],
   "source": [
    "# chi2_contingency ==> 카이제곱 값, p값, 자유도(dof), 기대값 등을 반환해줌\n",
    "contg=stats.chi2_contingency(observed=xtab)\n",
    "p_val=np.round(contg[1],3)\n",
    "print('P-값: ',p_val)"
   ]
  },
  {
   "cell_type": "markdown",
   "metadata": {},
   "source": [
    "### ANOVA 분산분석\n",
    "- 문제: 10명의 환자를 대상으로 A,B,C 세 가지 수면제 약효(수면시간)를 각각 테스트할 경우, 유의수준 0.05에서 A,B,C 수면제의 평균 수면시간은 동일한가?"
   ]
  },
  {
   "cell_type": "code",
   "execution_count": 8,
   "metadata": {},
   "outputs": [
    {
     "data": {
      "text/html": [
       "<div>\n",
       "<style scoped>\n",
       "    .dataframe tbody tr th:only-of-type {\n",
       "        vertical-align: middle;\n",
       "    }\n",
       "\n",
       "    .dataframe tbody tr th {\n",
       "        vertical-align: top;\n",
       "    }\n",
       "\n",
       "    .dataframe thead th {\n",
       "        text-align: right;\n",
       "    }\n",
       "</style>\n",
       "<table border=\"1\" class=\"dataframe\">\n",
       "  <thead>\n",
       "    <tr style=\"text-align: right;\">\n",
       "      <th></th>\n",
       "      <th>A</th>\n",
       "      <th>B</th>\n",
       "      <th>C</th>\n",
       "    </tr>\n",
       "  </thead>\n",
       "  <tbody>\n",
       "    <tr>\n",
       "      <th>0</th>\n",
       "      <td>5.5</td>\n",
       "      <td>7.2</td>\n",
       "      <td>6.0</td>\n",
       "    </tr>\n",
       "    <tr>\n",
       "      <th>1</th>\n",
       "      <td>5.4</td>\n",
       "      <td>4.2</td>\n",
       "      <td>6.5</td>\n",
       "    </tr>\n",
       "    <tr>\n",
       "      <th>2</th>\n",
       "      <td>4.4</td>\n",
       "      <td>8.9</td>\n",
       "      <td>9.6</td>\n",
       "    </tr>\n",
       "    <tr>\n",
       "      <th>3</th>\n",
       "      <td>3.8</td>\n",
       "      <td>7.9</td>\n",
       "      <td>5.3</td>\n",
       "    </tr>\n",
       "    <tr>\n",
       "      <th>4</th>\n",
       "      <td>5.7</td>\n",
       "      <td>9.3</td>\n",
       "      <td>0.7</td>\n",
       "    </tr>\n",
       "    <tr>\n",
       "      <th>5</th>\n",
       "      <td>0.9</td>\n",
       "      <td>0.2</td>\n",
       "      <td>8.3</td>\n",
       "    </tr>\n",
       "    <tr>\n",
       "      <th>6</th>\n",
       "      <td>7.8</td>\n",
       "      <td>8.7</td>\n",
       "      <td>9.8</td>\n",
       "    </tr>\n",
       "    <tr>\n",
       "      <th>7</th>\n",
       "      <td>8.0</td>\n",
       "      <td>4.6</td>\n",
       "      <td>7.8</td>\n",
       "    </tr>\n",
       "    <tr>\n",
       "      <th>8</th>\n",
       "      <td>1.2</td>\n",
       "      <td>6.4</td>\n",
       "      <td>1.4</td>\n",
       "    </tr>\n",
       "    <tr>\n",
       "      <th>9</th>\n",
       "      <td>9.4</td>\n",
       "      <td>5.2</td>\n",
       "      <td>4.1</td>\n",
       "    </tr>\n",
       "  </tbody>\n",
       "</table>\n",
       "</div>"
      ],
      "text/plain": [
       "     A    B    C\n",
       "0  5.5  7.2  6.0\n",
       "1  5.4  4.2  6.5\n",
       "2  4.4  8.9  9.6\n",
       "3  3.8  7.9  5.3\n",
       "4  5.7  9.3  0.7\n",
       "5  0.9  0.2  8.3\n",
       "6  7.8  8.7  9.8\n",
       "7  8.0  4.6  7.8\n",
       "8  1.2  6.4  1.4\n",
       "9  9.4  5.2  4.1"
      ]
     },
     "execution_count": 8,
     "metadata": {},
     "output_type": "execute_result"
    }
   ],
   "source": [
    "import numpy as np\n",
    "import pandas as pd\n",
    "from scipy import stats\n",
    "\n",
    "np.random.seed(0)\n",
    "data=(np.random.rand(30).round(2)*10).reshape(-1,3)\n",
    "df = pd.DataFrame(data=data,columns=['A','B','C'])\n",
    "df"
   ]
  },
  {
   "cell_type": "code",
   "execution_count": 9,
   "metadata": {},
   "outputs": [
    {
     "name": "stdout",
     "output_type": "stream",
     "text": [
      "통계량: 0.34, p-value: 0.713\n"
     ]
    }
   ],
   "source": [
    "# 분산분석은 f분포를 따르는 f통계량 사용(1개의 범주변수 사용->own_way, 2개 이상의 범주형 변수 사용)\n",
    "# f_oneway ==> 1번째 값은 f통계량, 2번쨰 값은 p값\n",
    "one_way_anova=stats.f_oneway(df.A,df.B,df.C)\n",
    "print('통계량: {}, p-value: {}'.format(np.round(one_way_anova[0],2),np.round(one_way_anova[1],3)))"
   ]
  }
 ],
 "metadata": {
  "kernelspec": {
   "display_name": "Python 3",
   "language": "python",
   "name": "python3"
  },
  "language_info": {
   "codemirror_mode": {
    "name": "ipython",
    "version": 3
   },
   "file_extension": ".py",
   "mimetype": "text/x-python",
   "name": "python",
   "nbconvert_exporter": "python",
   "pygments_lexer": "ipython3",
   "version": "3.7.7"
  }
 },
 "nbformat": 4,
 "nbformat_minor": 4
}
